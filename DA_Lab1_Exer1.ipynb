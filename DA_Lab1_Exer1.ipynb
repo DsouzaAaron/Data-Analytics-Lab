{
 "cells": [
  {
   "cell_type": "markdown",
   "id": "solved-heaven",
   "metadata": {},
   "source": [
    "# <u>Data Frame creation and manipuation</u>"
   ]
  },
  {
   "cell_type": "markdown",
   "id": "authorized-bernard",
   "metadata": {},
   "source": [
    "<h3><i> 1. Create a data frame with details of 10 students and columns as Roll Number, Name, Gender, Marks1, Marks2, Marks3</h3></i>"
   ]
  },
  {
   "cell_type": "code",
   "execution_count": 65,
   "id": "grateful-sigma",
   "metadata": {},
   "outputs": [
    {
     "data": {
      "text/html": [
       "<div>\n",
       "<style scoped>\n",
       "    .dataframe tbody tr th:only-of-type {\n",
       "        vertical-align: middle;\n",
       "    }\n",
       "\n",
       "    .dataframe tbody tr th {\n",
       "        vertical-align: top;\n",
       "    }\n",
       "\n",
       "    .dataframe thead th {\n",
       "        text-align: right;\n",
       "    }\n",
       "</style>\n",
       "<table border=\"1\" class=\"dataframe\">\n",
       "  <thead>\n",
       "    <tr style=\"text-align: right;\">\n",
       "      <th></th>\n",
       "      <th>RollNO</th>\n",
       "      <th>Name</th>\n",
       "      <th>Gender</th>\n",
       "      <th>Marks1</th>\n",
       "      <th>Marks2</th>\n",
       "      <th>Marks3</th>\n",
       "    </tr>\n",
       "  </thead>\n",
       "  <tbody>\n",
       "    <tr>\n",
       "      <th>0</th>\n",
       "      <td>18230</td>\n",
       "      <td>Aaron</td>\n",
       "      <td>0</td>\n",
       "      <td>80</td>\n",
       "      <td>75</td>\n",
       "      <td>90</td>\n",
       "    </tr>\n",
       "    <tr>\n",
       "      <th>1</th>\n",
       "      <td>18231</td>\n",
       "      <td>Rithesh</td>\n",
       "      <td>0</td>\n",
       "      <td>70</td>\n",
       "      <td>60</td>\n",
       "      <td>85</td>\n",
       "    </tr>\n",
       "    <tr>\n",
       "      <th>2</th>\n",
       "      <td>18232</td>\n",
       "      <td>Nicole</td>\n",
       "      <td>1</td>\n",
       "      <td>65</td>\n",
       "      <td>55</td>\n",
       "      <td>72</td>\n",
       "    </tr>\n",
       "    <tr>\n",
       "      <th>3</th>\n",
       "      <td>18233</td>\n",
       "      <td>Philip</td>\n",
       "      <td>0</td>\n",
       "      <td>64</td>\n",
       "      <td>33</td>\n",
       "      <td>81</td>\n",
       "    </tr>\n",
       "    <tr>\n",
       "      <th>4</th>\n",
       "      <td>18234</td>\n",
       "      <td>Natalie</td>\n",
       "      <td>1</td>\n",
       "      <td>76</td>\n",
       "      <td>34</td>\n",
       "      <td>54</td>\n",
       "    </tr>\n",
       "    <tr>\n",
       "      <th>5</th>\n",
       "      <td>18235</td>\n",
       "      <td>Sarah</td>\n",
       "      <td>1</td>\n",
       "      <td>87</td>\n",
       "      <td>79</td>\n",
       "      <td>68</td>\n",
       "    </tr>\n",
       "    <tr>\n",
       "      <th>6</th>\n",
       "      <td>18236</td>\n",
       "      <td>Scott</td>\n",
       "      <td>0</td>\n",
       "      <td>57</td>\n",
       "      <td>88</td>\n",
       "      <td>62</td>\n",
       "    </tr>\n",
       "    <tr>\n",
       "      <th>7</th>\n",
       "      <td>18237</td>\n",
       "      <td>Matthew</td>\n",
       "      <td>0</td>\n",
       "      <td>79</td>\n",
       "      <td>64</td>\n",
       "      <td>87</td>\n",
       "    </tr>\n",
       "    <tr>\n",
       "      <th>8</th>\n",
       "      <td>18238</td>\n",
       "      <td>Sabine</td>\n",
       "      <td>1</td>\n",
       "      <td>87</td>\n",
       "      <td>93</td>\n",
       "      <td>88</td>\n",
       "    </tr>\n",
       "    <tr>\n",
       "      <th>9</th>\n",
       "      <td>18239</td>\n",
       "      <td>Sophia</td>\n",
       "      <td>1</td>\n",
       "      <td>45</td>\n",
       "      <td>58</td>\n",
       "      <td>67</td>\n",
       "    </tr>\n",
       "  </tbody>\n",
       "</table>\n",
       "</div>"
      ],
      "text/plain": [
       "   RollNO     Name  Gender  Marks1  Marks2  Marks3\n",
       "0   18230    Aaron       0      80      75      90\n",
       "1   18231  Rithesh       0      70      60      85\n",
       "2   18232   Nicole       1      65      55      72\n",
       "3   18233   Philip       0      64      33      81\n",
       "4   18234  Natalie       1      76      34      54\n",
       "5   18235    Sarah       1      87      79      68\n",
       "6   18236    Scott       0      57      88      62\n",
       "7   18237  Matthew       0      79      64      87\n",
       "8   18238   Sabine       1      87      93      88\n",
       "9   18239   Sophia       1      45      58      67"
      ]
     },
     "execution_count": 65,
     "metadata": {},
     "output_type": "execute_result"
    }
   ],
   "source": [
    "import pandas as pd\n",
    "\n",
    "student_details = [{\"RollNO\":18230,\"Name\":\"Aaron\",\"Gender\":0,\"Marks1\":80,\"Marks2\":75,\"Marks3\":90},\n",
    "                 {\"RollNO\":18231,\"Name\":\"Rithesh\",\"Gender\":0,\"Marks1\":70,\"Marks2\":60,\"Marks3\":85},\n",
    "                 {\"RollNO\":18232,\"Name\":\"Nicole\",\"Gender\":1,\"Marks1\":65,\"Marks2\":55,\"Marks3\":72},\n",
    "                 {\"RollNO\":18233,\"Name\":\"Philip\",\"Gender\":0,\"Marks1\":64,\"Marks2\":33,\"Marks3\":81},\n",
    "                 {\"RollNO\":18234,\"Name\":\"Natalie\",\"Gender\":1,\"Marks1\":76,\"Marks2\":34,\"Marks3\":54},\n",
    "                 {\"RollNO\":18235,\"Name\":\"Sarah\",\"Gender\":1,\"Marks1\":87,\"Marks2\":79,\"Marks3\":68},\n",
    "                 {\"RollNO\":18236,\"Name\":\"Scott\",\"Gender\":0,\"Marks1\":57,\"Marks2\":88,\"Marks3\":62},\n",
    "                 {\"RollNO\":18237,\"Name\":\"Matthew\",\"Gender\":0,\"Marks1\":79,\"Marks2\":64,\"Marks3\":87},\n",
    "                 {\"RollNO\":18238,\"Name\":\"Sabine\",\"Gender\":1,\"Marks1\":87,\"Marks2\":93,\"Marks3\":88},\n",
    "                 {\"RollNO\":18239,\"Name\":\"Sophia\",\"Gender\":1,\"Marks1\":45,\"Marks2\":58,\"Marks3\":67}]\n",
    "student_df = pd.DataFrame(student_details)\n",
    "student_df.head(10)"
   ]
  },
  {
   "cell_type": "markdown",
   "id": "sized-humidity",
   "metadata": {},
   "source": [
    "<h3><i>2. Create a new column with Total Marks</i></h3>"
   ]
  },
  {
   "cell_type": "code",
   "execution_count": 66,
   "id": "induced-bracelet",
   "metadata": {},
   "outputs": [
    {
     "data": {
      "text/html": [
       "<div>\n",
       "<style scoped>\n",
       "    .dataframe tbody tr th:only-of-type {\n",
       "        vertical-align: middle;\n",
       "    }\n",
       "\n",
       "    .dataframe tbody tr th {\n",
       "        vertical-align: top;\n",
       "    }\n",
       "\n",
       "    .dataframe thead th {\n",
       "        text-align: right;\n",
       "    }\n",
       "</style>\n",
       "<table border=\"1\" class=\"dataframe\">\n",
       "  <thead>\n",
       "    <tr style=\"text-align: right;\">\n",
       "      <th></th>\n",
       "      <th>RollNO</th>\n",
       "      <th>Name</th>\n",
       "      <th>Gender</th>\n",
       "      <th>Marks1</th>\n",
       "      <th>Marks2</th>\n",
       "      <th>Marks3</th>\n",
       "      <th>Total Marks</th>\n",
       "    </tr>\n",
       "  </thead>\n",
       "  <tbody>\n",
       "    <tr>\n",
       "      <th>0</th>\n",
       "      <td>18230</td>\n",
       "      <td>Aaron</td>\n",
       "      <td>0</td>\n",
       "      <td>80</td>\n",
       "      <td>75</td>\n",
       "      <td>90</td>\n",
       "      <td>245</td>\n",
       "    </tr>\n",
       "    <tr>\n",
       "      <th>1</th>\n",
       "      <td>18231</td>\n",
       "      <td>Rithesh</td>\n",
       "      <td>0</td>\n",
       "      <td>70</td>\n",
       "      <td>60</td>\n",
       "      <td>85</td>\n",
       "      <td>215</td>\n",
       "    </tr>\n",
       "    <tr>\n",
       "      <th>2</th>\n",
       "      <td>18232</td>\n",
       "      <td>Nicole</td>\n",
       "      <td>1</td>\n",
       "      <td>65</td>\n",
       "      <td>55</td>\n",
       "      <td>72</td>\n",
       "      <td>192</td>\n",
       "    </tr>\n",
       "    <tr>\n",
       "      <th>3</th>\n",
       "      <td>18233</td>\n",
       "      <td>Philip</td>\n",
       "      <td>0</td>\n",
       "      <td>64</td>\n",
       "      <td>33</td>\n",
       "      <td>81</td>\n",
       "      <td>178</td>\n",
       "    </tr>\n",
       "    <tr>\n",
       "      <th>4</th>\n",
       "      <td>18234</td>\n",
       "      <td>Natalie</td>\n",
       "      <td>1</td>\n",
       "      <td>76</td>\n",
       "      <td>34</td>\n",
       "      <td>54</td>\n",
       "      <td>164</td>\n",
       "    </tr>\n",
       "    <tr>\n",
       "      <th>5</th>\n",
       "      <td>18235</td>\n",
       "      <td>Sarah</td>\n",
       "      <td>1</td>\n",
       "      <td>87</td>\n",
       "      <td>79</td>\n",
       "      <td>68</td>\n",
       "      <td>234</td>\n",
       "    </tr>\n",
       "    <tr>\n",
       "      <th>6</th>\n",
       "      <td>18236</td>\n",
       "      <td>Scott</td>\n",
       "      <td>0</td>\n",
       "      <td>57</td>\n",
       "      <td>88</td>\n",
       "      <td>62</td>\n",
       "      <td>207</td>\n",
       "    </tr>\n",
       "    <tr>\n",
       "      <th>7</th>\n",
       "      <td>18237</td>\n",
       "      <td>Matthew</td>\n",
       "      <td>0</td>\n",
       "      <td>79</td>\n",
       "      <td>64</td>\n",
       "      <td>87</td>\n",
       "      <td>230</td>\n",
       "    </tr>\n",
       "    <tr>\n",
       "      <th>8</th>\n",
       "      <td>18238</td>\n",
       "      <td>Sabine</td>\n",
       "      <td>1</td>\n",
       "      <td>87</td>\n",
       "      <td>93</td>\n",
       "      <td>88</td>\n",
       "      <td>268</td>\n",
       "    </tr>\n",
       "    <tr>\n",
       "      <th>9</th>\n",
       "      <td>18239</td>\n",
       "      <td>Sophia</td>\n",
       "      <td>1</td>\n",
       "      <td>45</td>\n",
       "      <td>58</td>\n",
       "      <td>67</td>\n",
       "      <td>170</td>\n",
       "    </tr>\n",
       "  </tbody>\n",
       "</table>\n",
       "</div>"
      ],
      "text/plain": [
       "   RollNO     Name  Gender  Marks1  Marks2  Marks3  Total Marks\n",
       "0   18230    Aaron       0      80      75      90          245\n",
       "1   18231  Rithesh       0      70      60      85          215\n",
       "2   18232   Nicole       1      65      55      72          192\n",
       "3   18233   Philip       0      64      33      81          178\n",
       "4   18234  Natalie       1      76      34      54          164\n",
       "5   18235    Sarah       1      87      79      68          234\n",
       "6   18236    Scott       0      57      88      62          207\n",
       "7   18237  Matthew       0      79      64      87          230\n",
       "8   18238   Sabine       1      87      93      88          268\n",
       "9   18239   Sophia       1      45      58      67          170"
      ]
     },
     "execution_count": 66,
     "metadata": {},
     "output_type": "execute_result"
    }
   ],
   "source": [
    "student_df[\"Total Marks\"] = student_df[[\"Marks1\",\"Marks2\",\"Marks3\"]].sum(axis=1)\n",
    "student_df.head(10)"
   ]
  },
  {
   "cell_type": "markdown",
   "id": "numeric-parliament",
   "metadata": {},
   "source": [
    "<h3><i>3. Find the lowest Marks in Marks1</i></h3>"
   ]
  },
  {
   "cell_type": "code",
   "execution_count": 67,
   "id": "changed-region",
   "metadata": {},
   "outputs": [
    {
     "data": {
      "text/plain": [
       "45"
      ]
     },
     "execution_count": 67,
     "metadata": {},
     "output_type": "execute_result"
    }
   ],
   "source": [
    "minMarks1 = student_df[\"Marks1\"].min()\n",
    "minMarks1"
   ]
  },
  {
   "cell_type": "markdown",
   "id": "mineral-notion",
   "metadata": {},
   "source": [
    "<h3><i>4. Find the Highest Marks in Marks2</i></h3>"
   ]
  },
  {
   "cell_type": "code",
   "execution_count": 68,
   "id": "moral-effect",
   "metadata": {},
   "outputs": [
    {
     "data": {
      "text/plain": [
       "93"
      ]
     },
     "execution_count": 68,
     "metadata": {},
     "output_type": "execute_result"
    }
   ],
   "source": [
    "maxMarks2 = student_df[\"Marks2\"].max()\n",
    "maxMarks2"
   ]
  },
  {
   "cell_type": "markdown",
   "id": "clinical-virgin",
   "metadata": {},
   "source": [
    "<h3><i>5. Find the average Marks in Marks3</i></h3>"
   ]
  },
  {
   "cell_type": "code",
   "execution_count": 69,
   "id": "mineral-shanghai",
   "metadata": {},
   "outputs": [
    {
     "data": {
      "text/plain": [
       "75.4"
      ]
     },
     "execution_count": 69,
     "metadata": {},
     "output_type": "execute_result"
    }
   ],
   "source": [
    "avgMarks3 = student_df[\"Marks3\"].mean()\n",
    "avgMarks3"
   ]
  },
  {
   "cell_type": "markdown",
   "id": "stunning-jimmy",
   "metadata": {},
   "source": [
    "<h3><i>6. Find the Student with highest Average</i></h3>"
   ]
  },
  {
   "cell_type": "code",
   "execution_count": 103,
   "id": "rental-country",
   "metadata": {},
   "outputs": [
    {
     "data": {
      "text/html": [
       "<div>\n",
       "<style scoped>\n",
       "    .dataframe tbody tr th:only-of-type {\n",
       "        vertical-align: middle;\n",
       "    }\n",
       "\n",
       "    .dataframe tbody tr th {\n",
       "        vertical-align: top;\n",
       "    }\n",
       "\n",
       "    .dataframe thead th {\n",
       "        text-align: right;\n",
       "    }\n",
       "</style>\n",
       "<table border=\"1\" class=\"dataframe\">\n",
       "  <thead>\n",
       "    <tr style=\"text-align: right;\">\n",
       "      <th></th>\n",
       "      <th>Name</th>\n",
       "      <th>RollNO</th>\n",
       "    </tr>\n",
       "  </thead>\n",
       "  <tbody>\n",
       "    <tr>\n",
       "      <th>8</th>\n",
       "      <td>Sabine</td>\n",
       "      <td>18238</td>\n",
       "    </tr>\n",
       "  </tbody>\n",
       "</table>\n",
       "</div>"
      ],
      "text/plain": [
       "     Name  RollNO\n",
       "8  Sabine   18238"
      ]
     },
     "execution_count": 103,
     "metadata": {},
     "output_type": "execute_result"
    }
   ],
   "source": [
    "#student_df[student_df.iloc[:,3:6].mean(axis=1)==student_df.iloc[:,3:6].mean(axis=1).max()][[\"Name\",\"RollNO\"]]\n",
    "Average = student_df.iloc[:,3:6].mean(axis=1)\n",
    "student_df[Average == Average.max()][[\"Name\",\"RollNO\"]]"
   ]
  },
  {
   "cell_type": "markdown",
   "id": "competitive-breach",
   "metadata": {},
   "source": [
    "<h3><i>7. Find how many students Failed in Marks2</i></h3>"
   ]
  },
  {
   "cell_type": "code",
   "execution_count": 63,
   "id": "single-dealer",
   "metadata": {},
   "outputs": [
    {
     "data": {
      "text/plain": [
       "2"
      ]
     },
     "execution_count": 63,
     "metadata": {},
     "output_type": "execute_result"
    }
   ],
   "source": [
    "failMarks2 = student_df[student_df[\"Marks2\"]<40]\n",
    "failMarks2.shape[0]"
   ]
  },
  {
   "cell_type": "code",
   "execution_count": null,
   "id": "aggressive-express",
   "metadata": {},
   "outputs": [],
   "source": []
  }
 ],
 "metadata": {
  "kernelspec": {
   "display_name": "Python 3",
   "language": "python",
   "name": "python3"
  },
  "language_info": {
   "codemirror_mode": {
    "name": "ipython",
    "version": 3
   },
   "file_extension": ".py",
   "mimetype": "text/x-python",
   "name": "python",
   "nbconvert_exporter": "python",
   "pygments_lexer": "ipython3",
   "version": "3.8.2"
  }
 },
 "nbformat": 4,
 "nbformat_minor": 5
}
